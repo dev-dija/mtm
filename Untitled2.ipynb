{
  "nbformat": 4,
  "nbformat_minor": 0,
  "metadata": {
    "colab": {
      "name": "Untitled2.ipynb",
      "provenance": [],
      "collapsed_sections": [],
      "authorship_tag": "ABX9TyMbU5R2fh14NiLAuhLwcw6K",
      "include_colab_link": true
    },
    "kernelspec": {
      "name": "python3",
      "display_name": "Python 3"
    }
  },
  "cells": [
    {
      "cell_type": "markdown",
      "metadata": {
        "id": "view-in-github",
        "colab_type": "text"
      },
      "source": [
        "<a href=\"https://colab.research.google.com/github/dev-dija/mtm/blob/master/Untitled2.ipynb\" target=\"_parent\"><img src=\"https://colab.research.google.com/assets/colab-badge.svg\" alt=\"Open In Colab\"/></a>"
      ]
    },
    {
      "cell_type": "code",
      "metadata": {
        "id": "pCFGf5ndQXx7"
      },
      "source": [
        "#importation des bibliothèques nécessaires\r\n",
        "import numpy as np\r\n",
        "import matplotlib.pyplot as plt\r\n",
        "from mlxtend.plotting import plot_decision_regions"
      ],
      "execution_count": 1,
      "outputs": []
    },
    {
      "cell_type": "code",
      "metadata": {
        "id": "MhSq3tGeQcGk"
      },
      "source": [
        "#Définition de la fonction d'activation sigmoid\r\n",
        "def sigmoid(x):\r\n",
        "  return 1/(1+np.exp(-x))"
      ],
      "execution_count": 2,
      "outputs": []
    },
    {
      "cell_type": "code",
      "metadata": {
        "id": "GW8W4qaGQi6r"
      },
      "source": [
        "def sigmoid_derivative(x):\r\n",
        "  return x * (1 - x)"
      ],
      "execution_count": 4,
      "outputs": []
    },
    {
      "cell_type": "code",
      "metadata": {
        "id": "e1jWzEi2Q32X"
      },
      "source": [
        "#Création de model\r\n",
        "class NeuralNetworkModel:\r\n",
        "  # constructeur\r\n",
        "  def __init__(self, input, hidden, output):\r\n",
        "    np.random.seed(0)\r\n",
        "    self.hidden_weights = np.random.rand(input,hidden)\r\n",
        "    self.hidden_bias = np.random.rand(1,hidden)\r\n",
        "    self.output_weights = np.random.rand(hidden,output)\r\n",
        "    self.output_bias = np.random.rand(1,output)\r\n",
        "  # la fonction d'apprentissage (training)\r\n",
        "  def fit(self, X, y, nb_iteration=1000, learning_rate=0.01):\r\n",
        "    y_tmp = y\r\n",
        "    y = y.reshape(-1,1)\r\n",
        "    m = (nb_iteration/10)\r\n",
        "    for i in range(nb_iteration):\r\n",
        "      hidden_layer_sum = np.dot(X,self.hidden_weights) + self.hidden_bias\r\n",
        "      hidden_layer_out = sigmoid(hidden_layer_sum)\r\n",
        "      output_layer_sum = np.dot(hidden_layer_out,self.output_weights) + self.output_bias\r\n",
        "      predicted_y = sigmoid(output_layer_sum)\r\n",
        "\r\n",
        "      dloss_dbias_out=(predicted_y-y)* sigmoid_derivative(predicted_y)\r\n",
        "      dloss_dw_out=hidden_layer_out.T.dot(dloss_dbias_out)\r\n",
        "\r\n",
        "      dloss_dbias_h=(dloss_dbias_out).dot(self.output_weights.T)*sigmoid_derivative(hidden_layer_out)\r\n",
        "      dloss_dw_h = X.T.dot(dloss_dbias_h)\r\n",
        "\r\n",
        "      self.hidden_weights-=dloss_dw_h*learning_rate\r\n",
        "      self.hidden_bias-=np.sum(dloss_dbias_h,axis=0,keepdims=True)*learning_rate\r\n",
        "      \r\n",
        "      self.output_weights-=dloss_dw_out*learning_rate\r\n",
        "      self.output_bias-=np.sum(dloss_dbias_out,axis=0,keepdims=True)*learning_rate\r\n",
        "      if (i % m == 0) :\r\n",
        "        print(\"iteration ({}) -> loss : {:.4f} | accuracy : {:.4f} \".format(i,np.mean((predicted_y-y_tmp)**2), (y_tmp == self.predict(X)).mean() ))\r\n",
        "  # la fonction de prédiction  \r\n",
        "  def predict(self, X):\r\n",
        "    hidden_layer_sum = np.dot(X,self.hidden_weights) \r\n",
        "    hidden_layer_sum += self.hidden_bias\r\n",
        "    hidden_layer_out = sigmoid(hidden_layer_sum)\r\n",
        "    output_layer_sum = np.dot(hidden_layer_out,self.output_weights) + self.output_bias\r\n",
        "    predicted_y = sigmoid(output_layer_sum)\r\n",
        "    return np.round(predicted_y).reshape(1,-1)[0]"
      ],
      "execution_count": 34,
      "outputs": []
    },
    {
      "cell_type": "code",
      "metadata": {
        "id": "VJENoPt_RF-v"
      },
      "source": [
        "#Génération du dataset\r\n",
        "rng = np.random.RandomState(0)\r\n",
        "X = rng.randn(300, 2)\r\n",
        "y = np.array(np.logical_xor(X[:, 0] > 0, X[:, 1] > 0),dtype=int)"
      ],
      "execution_count": 24,
      "outputs": []
    },
    {
      "cell_type": "code",
      "metadata": {
        "colab": {
          "base_uri": "https://localhost:8080/"
        },
        "id": "DMvxlJ0XRWxS",
        "outputId": "10ca4cb1-a53d-48b4-b2a9-e65dd7ddd56c"
      },
      "source": [
        "#les features\r\n",
        "X[0:10]"
      ],
      "execution_count": 9,
      "outputs": [
        {
          "output_type": "execute_result",
          "data": {
            "text/plain": [
              "array([[ 1.76405235,  0.40015721],\n",
              "       [ 0.97873798,  2.2408932 ],\n",
              "       [ 1.86755799, -0.97727788],\n",
              "       [ 0.95008842, -0.15135721],\n",
              "       [-0.10321885,  0.4105985 ],\n",
              "       [ 0.14404357,  1.45427351],\n",
              "       [ 0.76103773,  0.12167502],\n",
              "       [ 0.44386323,  0.33367433],\n",
              "       [ 1.49407907, -0.20515826],\n",
              "       [ 0.3130677 , -0.85409574]])"
            ]
          },
          "metadata": {
            "tags": []
          },
          "execution_count": 9
        }
      ]
    },
    {
      "cell_type": "code",
      "metadata": {
        "colab": {
          "base_uri": "https://localhost:8080/"
        },
        "id": "m3CIB2dsRaml",
        "outputId": "cbdd37b0-489b-4a64-e7f1-482be902b600"
      },
      "source": [
        "#les targets\r\n",
        "y[:10]"
      ],
      "execution_count": 10,
      "outputs": [
        {
          "output_type": "execute_result",
          "data": {
            "text/plain": [
              "array([0, 0, 1, 1, 1, 0, 0, 0, 1, 1])"
            ]
          },
          "metadata": {
            "tags": []
          },
          "execution_count": 10
        }
      ]
    },
    {
      "cell_type": "code",
      "metadata": {
        "colab": {
          "base_uri": "https://localhost:8080/",
          "height": 711
        },
        "id": "aYflG6JNRhiM",
        "outputId": "7bc5b440-f8e1-419b-d6ca-3615ce08ed6c"
      },
      "source": [
        "model = NeuralNetworkModel(2,6,1)\r\n",
        "model.fit(X, y, nb_iteration=10000, learning_rate=0.01)\r\n",
        "fig = plt.figure(figsize=(10,8))\r\n",
        "fig = plot_decision_regions(X=X, y=y, clf=model, legend=2)\r\n",
        "plt.show()"
      ],
      "execution_count": 35,
      "outputs": [
        {
          "output_type": "stream",
          "text": [
            "iteration (0) -> loss : 0.4562 | accuracy : 0.4733 \n",
            "iteration (1000) -> loss : 0.3346 | accuracy : 0.8733 \n",
            "iteration (2000) -> loss : 0.3931 | accuracy : 0.9600 \n",
            "iteration (3000) -> loss : 0.4128 | accuracy : 0.9833 \n",
            "iteration (4000) -> loss : 0.4243 | accuracy : 0.9867 \n",
            "iteration (5000) -> loss : 0.4314 | accuracy : 0.9900 \n",
            "iteration (6000) -> loss : 0.4365 | accuracy : 0.9900 \n",
            "iteration (7000) -> loss : 0.4404 | accuracy : 0.9900 \n",
            "iteration (8000) -> loss : 0.4435 | accuracy : 0.9900 \n",
            "iteration (9000) -> loss : 0.4460 | accuracy : 0.9900 \n"
          ],
          "name": "stdout"
        },
        {
          "output_type": "stream",
          "text": [
            "/usr/local/lib/python3.6/dist-packages/mlxtend/plotting/decision_regions.py:244: MatplotlibDeprecationWarning: Passing unsupported keyword arguments to axis() will raise a TypeError in 3.3.\n",
            "  ax.axis(xmin=xx.min(), xmax=xx.max(), y_min=yy.min(), y_max=yy.max())\n"
          ],
          "name": "stderr"
        },
        {
          "output_type": "display_data",
          "data": {
            "image/png": "[encoded data removed]",
            "text/plain": [
              "<Figure size 720x576 with 1 Axes>"
            ]
          },
          "metadata": {
            "tags": [],
            "needs_background": "light"
          }
        }
      ]
    }
  ]
}